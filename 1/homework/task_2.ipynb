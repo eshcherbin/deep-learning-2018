{
 "cells": [
  {
   "cell_type": "markdown",
   "metadata": {},
   "source": [
    "## Assigment: Neural network basics"
   ]
  },
  {
   "cell_type": "markdown",
   "metadata": {},
   "source": [
    "Soft deadline: 16.09.18 at 23.59\n",
    "\n",
    "Hard deadline: 18.09.18 at 23.59"
   ]
  },
  {
   "cell_type": "markdown",
   "metadata": {},
   "source": [
    "For this task I intentionally provide no boilerplate code, because very puprpose of this task is getting you comforatable with basic code template for desiging NNs in pytorch. I higly recommend you to revisit all the last seminar materials."
   ]
  },
  {
   "cell_type": "markdown",
   "metadata": {},
   "source": [
    "#### Task\n",
    "\n",
    "* Implement simple **fully-convolutional** neural architecture for classification. Make sure it is small enought to run on your home machine.\n",
    "* Provide dataset visulization.\n",
    "* Provide train/test split and validation\n",
    "\n",
    "#### Requirements\n",
    "\n",
    "* Architecture should derive from `torch.nn.Module`\n",
    "* Use `torch.utils.data.Dataset` and `torch.utils.data.DataLoader`. But if you manage co simplify this step using dataset `torchivision`, I will only encourage you.\n",
    "* Implement at least one data transformer, but make sure it is useful for classification task.\n",
    "* Use FashionMNIST dataset https://github.com/zalandoresearch/fashion-mnist\n",
    "* Make sure you can fix random seed for all components of your code to make experiments reproducible\n",
    "* Since you architecure should be fully-convolutional, make sure it does not depend on input size.\n",
    "\n",
    "#### UPD: The _fully-convolutional_ constraint has been dropped"
   ]
  },
  {
   "cell_type": "markdown",
   "metadata": {},
   "source": [
    "### Solution"
   ]
  },
  {
   "cell_type": "markdown",
   "metadata": {},
   "source": [
    "* imports\n",
    "* dataset retrieval and transformation\n",
    "* training process visualization function\n",
    "* training function"
   ]
  },
  {
   "cell_type": "code",
   "execution_count": 1,
   "metadata": {},
   "outputs": [],
   "source": [
    "%matplotlib inline\n",
    "import torch\n",
    "import torchvision\n",
    "import numpy as np\n",
    "import matplotlib.pyplot as plt\n",
    "from IPython import display\n",
    "from timeit import default_timer as timer"
   ]
  },
  {
   "cell_type": "code",
   "execution_count": 2,
   "metadata": {},
   "outputs": [],
   "source": [
    "transform = torchvision.transforms.Compose([\n",
    "    torchvision.transforms.RandomCrop(28, padding=4),  # useful because it prevents overfitting well\n",
    "    torchvision.transforms.ToTensor(),\n",
    "])\n",
    "train_set = torchvision.datasets.FashionMNIST(root='fashion_mnist',\n",
    "                                              train=True,\n",
    "                                              download=True,\n",
    "                                              transform=transform)\n",
    "val_set = torchvision.datasets.FashionMNIST(root='fashion_mnist',\n",
    "                                            train=False,\n",
    "                                            transform=transform)"
   ]
  },
  {
   "cell_type": "code",
   "execution_count": 3,
   "metadata": {},
   "outputs": [],
   "source": [
    "def visualize(losses, train_losses, val_losses, train_acc, val_acc, epoch, last_epoch_time, epoch_end=False):\n",
    "    plt.clf()\n",
    "    if epoch_end:\n",
    "        n_subplots = 2\n",
    "        plt.suptitle('Epoch {} finished in {:.3f} seconds'.format(epoch, last_epoch_time))\n",
    "    else:\n",
    "        n_subplots = 3\n",
    "        if last_epoch_time:\n",
    "            plt.suptitle('Current epoch: {}, last epoch finished in {:.3f} seconds'.format(epoch, last_epoch_time))\n",
    "        else:\n",
    "            plt.suptitle('Current epoch: {}'.format(epoch))\n",
    "        plt.subplot(1, 3, 3)\n",
    "        plt.plot(losses)\n",
    "        plt.grid()\n",
    "        plt.xlabel('Batch')\n",
    "        ymin, ymax = plt.ylim()\n",
    "        plt.ylim(0, ymax)\n",
    "    plt.subplot(1, n_subplots, 1)\n",
    "    plt.plot(train_acc, 'b.-', label='train')\n",
    "    plt.plot(val_acc, 'r.-', label='val')\n",
    "    plt.grid()\n",
    "    plt.legend()\n",
    "    plt.ylabel('Accuracy')\n",
    "    plt.xlabel('Epoch')\n",
    "    plt.ylim(0, 1)\n",
    "    plt.subplot(1, n_subplots, 2)\n",
    "    plt.plot(train_losses, 'b.-', label='train')\n",
    "    plt.plot(val_losses, 'r.-', label='val')\n",
    "    plt.grid()\n",
    "    plt.legend()\n",
    "    plt.ylabel('Loss')\n",
    "    plt.xlabel('Epoch')\n",
    "    ymin, ymax = plt.ylim()\n",
    "    plt.ylim(0, ymax)\n",
    "    display.clear_output(wait=True)\n",
    "    display.display(plt.gcf())"
   ]
  },
  {
   "cell_type": "code",
   "execution_count": 4,
   "metadata": {},
   "outputs": [],
   "source": [
    "def train(model, batch_size, n_epochs, learning_rate, seed=None):\n",
    "    if seed is not None:\n",
    "        torch.manual_seed(seed)\n",
    "    \n",
    "    \n",
    "    train_loader = torch.utils.data.DataLoader(train_set,\n",
    "                                               batch_size=batch_size,\n",
    "                                               shuffle=True)\n",
    "    val_loader = torch.utils.data.DataLoader(val_set,\n",
    "                                             batch_size=batch_size)\n",
    "    \n",
    "    loss_fn = torch.nn.CrossEntropyLoss()\n",
    "    optimizer = torch.optim.Adam(model.parameters(), lr=learning_rate)\n",
    "\n",
    "    start_time = timer()\n",
    "    train_losses = np.zeros(n_epochs)\n",
    "    val_losses = np.zeros(n_epochs)\n",
    "    train_acc = np.zeros(n_epochs)\n",
    "    val_acc = np.zeros(n_epochs)\n",
    "    last_epoch_time = 0\n",
    "    for epoch in range(n_epochs):\n",
    "        epoch_start_time = timer()\n",
    "        \n",
    "        train_corr = 0\n",
    "        losses = np.zeros(len(train_loader))\n",
    "        for t, (X, y) in enumerate(train_loader):\n",
    "            optimizer.zero_grad()\n",
    "            y_pred = model(X)\n",
    "            loss = loss_fn(y_pred, y)\n",
    "            loss.backward()\n",
    "            optimizer.step()\n",
    "            losses[t] = loss.item()\n",
    "            train_corr += (y_pred.argmax(dim=1) == y).sum().item()\n",
    "            \n",
    "            if (t + 1) % 100 == 0:\n",
    "                visualize(losses, train_losses, val_losses, train_acc, val_acc, epoch, last_epoch_time)\n",
    "        \n",
    "        total_val_loss = 0\n",
    "        val_corr = 0\n",
    "        with torch.no_grad():\n",
    "            for X, y in val_loader:\n",
    "                y_pred = model(X)\n",
    "                loss = loss_fn(y_pred, y)\n",
    "                total_val_loss += loss.item()\n",
    "                val_corr += (y_pred.argmax(dim=1) == y).sum().item()\n",
    "            \n",
    "        \n",
    "        last_epoch_time = timer() - epoch_start_time\n",
    "        train_losses[epoch] = losses.mean()\n",
    "        val_losses[epoch] = total_val_loss / len(val_loader)\n",
    "        train_acc[epoch] = train_corr / len(train_set)\n",
    "        val_acc[epoch] = val_corr / len(val_set)\n",
    "        visualize(losses, train_losses, val_losses, train_acc, val_acc, epoch, last_epoch_time, epoch_end=True)\n",
    "    \n",
    "    print('Learning finished in {:.3f} seconds'.format(timer() - start_time))\n",
    "    plt.clf()"
   ]
  },
  {
   "cell_type": "markdown",
   "metadata": {},
   "source": [
    "The model:"
   ]
  },
  {
   "cell_type": "code",
   "execution_count": 5,
   "metadata": {},
   "outputs": [
    {
     "data": {
      "image/png": "[encoded data removed]",
      "text/plain": [
       "<Figure size 432x288 with 2 Axes>"
      ]
     },
     "metadata": {},
     "output_type": "display_data"
    },
    {
     "name": "stdout",
     "output_type": "stream",
     "text": [
      "Learning finished in 583.945 seconds\n"
     ]
    },
    {
     "data": {
      "text/plain": [
       "<Figure size 432x288 with 0 Axes>"
      ]
     },
     "metadata": {},
     "output_type": "display_data"
    }
   ],
   "source": [
    "# 20 conv layers, max pooling, 140 nodes in last layer\n",
    "class MyCNN(torch.nn.Module):\n",
    "    def __init__(self):\n",
    "        super().__init__()\n",
    "        \n",
    "        self.conv = torch.nn.Conv2d(1, 20, kernel_size=5, stride=1, padding=2)\n",
    "        self.max_pool = torch.nn.MaxPool2d(kernel_size=2, stride=2)\n",
    "        self.linear1 = torch.nn.Linear(20 * 14 * 14, 140)\n",
    "        self.linear2 = torch.nn.Linear(140, 20)\n",
    "        \n",
    "    def forward(self, x):\n",
    "        x = self.conv(x)\n",
    "        x = self.max_pool(x)\n",
    "        x = self.linear1(x.view(-1, 20 * 14 * 14)).clamp(min=0)\n",
    "        x = self.linear2(x)\n",
    "        return x\n",
    "\n",
    "    \n",
    "model = MyCNN()\n",
    "train(model, batch_size=100, n_epochs=20, learning_rate=0.001, seed=117)"
   ]
  }
 ],
 "metadata": {
  "kernelspec": {
   "display_name": "Python 3",
   "language": "python",
   "name": "python3"
  },
  "language_info": {
   "codemirror_mode": {
    "name": "ipython",
    "version": 3
   },
   "file_extension": ".py",
   "mimetype": "text/x-python",
   "name": "python",
   "nbconvert_exporter": "python",
   "pygments_lexer": "ipython3",
   "version": "3.6.5"
  }
 },
 "nbformat": 4,
 "nbformat_minor": 2
}
